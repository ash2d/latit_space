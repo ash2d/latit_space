{
 "cells": [
  {
   "cell_type": "markdown",
   "metadata": {},
   "source": [
    "# Split the data into 5 second chunks to be amiable with the VAE"
   ]
  },
  {
   "cell_type": "code",
   "execution_count": 27,
   "metadata": {},
   "outputs": [],
   "source": [
    "import os\n",
    "import numpy as np\n",
    "import tqdm"
   ]
  },
  {
   "cell_type": "code",
   "execution_count": 32,
   "metadata": {},
   "outputs": [],
   "source": [
    "def split_folder(folder_path_base: str, inner_folder: int, split_length: int = 1000):\n",
    "    \"\"\"\n",
    "    split the filtered data in the folder into 5 second np spectrogram files.\n",
    "    \"\"\"\n",
    "    folder_path = os.path.join(folder_path_base, \"results\", inner_folder)\n",
    "    # create the folder to store the clipped files\n",
    "    os.makedirs(os.path.join(folder_path_base, \"clipped\", inner_folder), exist_ok=True)\n",
    "    # get all files in the folder\n",
    "    folder_files = os.listdir(folder_path)\n",
    "    for file in tqdm.tqdm(folder_files):\n",
    "        data_np = np.loadtxt(os.path.join(folder_path, file))\n",
    "        length = data_np.shape[1]\n",
    "        # split the data into split_length chunks\n",
    "        for i in range(0, length, split_length):\n",
    "            np.save(os.path.join(folder_path_base, \"clipped\", inner_folder, file + f\"_{i}\"), data_np[:, i:i+split_length])\n"
   ]
  },
  {
   "cell_type": "code",
   "execution_count": 38,
   "metadata": {},
   "outputs": [],
   "source": [
    "# run this for every folder in results\n",
    "folder_path_base = \"../data/pilot01_data\"\n",
    "\n",
    "for folder in os.listdir(folder_path_base + \"/results\"):\n",
    "    if folder.isdigit():\n",
    "        split_folder(folder_path_base, folder)"
   ]
  },
  {
   "cell_type": "code",
   "execution_count": null,
   "metadata": {},
   "outputs": [],
   "source": []
  }
 ],
 "metadata": {
  "kernelspec": {
   "display_name": "venv",
   "language": "python",
   "name": "python3"
  },
  "language_info": {
   "codemirror_mode": {
    "name": "ipython",
    "version": 3
   },
   "file_extension": ".py",
   "mimetype": "text/x-python",
   "name": "python",
   "nbconvert_exporter": "python",
   "pygments_lexer": "ipython3",
   "version": "3.12.7"
  }
 },
 "nbformat": 4,
 "nbformat_minor": 2
}
