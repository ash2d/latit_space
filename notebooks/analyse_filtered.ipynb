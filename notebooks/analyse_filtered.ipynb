{
 "cells": [
  {
   "cell_type": "code",
   "execution_count": 2,
   "metadata": {},
   "outputs": [],
   "source": [
    "import numpy as np\n",
    "import matplotlib.pyplot as plt\n",
    "from scipy.io import wavfile\n",
    "import os\n",
    "from scipy.signal import butter, lfilter"
   ]
  },
  {
   "cell_type": "code",
   "execution_count": 3,
   "metadata": {},
   "outputs": [],
   "source": [
    "data_directory = '../data/pilot01_data/'\n",
    "target_directory = '1'\n",
    "results_directory = 'results'\n",
    "\n",
    "folder_path = os.path.join(data_directory, target_directory)\n",
    "results_path = os.path.join(data_directory, results_directory, target_directory)\n",
    "os.makedirs(results_path, exist_ok=True)\n",
    "filter_start = 900\n",
    "filter_stop = 9500"
   ]
  },
  {
   "cell_type": "code",
   "execution_count": 10,
   "metadata": {},
   "outputs": [],
   "source": [
    "def find_array_dimensions(folder_path):\n",
    "    \"\"\"\n",
    "    Iterates through a folder and prints the dimensions of NumPy arrays stored in .npy files.\n",
    "\n",
    "    Parameters:\n",
    "    folder_path (str): Path to the folder containing .npy files.\n",
    "\n",
    "    Returns:\n",
    "    None\n",
    "    \"\"\"\n",
    "    try:\n",
    "        # List all files in the folder\n",
    "        files = os.listdir(folder_path)\n",
    "        \n",
    "        # Iterate through the files\n",
    "        for file_name in files:\n",
    "            # Check if the file is a .npy file\n",
    "            if file_name.endswith('.npy'):\n",
    "                file_path = os.path.join(folder_path, file_name)\n",
    "                \n",
    "                # Load the numpy array\n",
    "                array = np.loadtxt(file_path)\n",
    "                \n",
    "                # Print the dimensions of the array\n",
    "                if array.shape != (46, 22499):\n",
    "                    print(\"Not the same size: \", file_name)\n",
    "    except Exception as e:\n",
    "        print(f\"An error occurred: {e}\")\n",
    "    \n",
    "    print(\"all good :)\")"
   ]
  },
  {
   "cell_type": "code",
   "execution_count": 11,
   "metadata": {},
   "outputs": [
    {
     "name": "stdout",
     "output_type": "stream",
     "text": [
      "all good :)\n"
     ]
    }
   ],
   "source": [
    "find_array_dimensions(results_path)"
   ]
  },
  {
   "cell_type": "code",
   "execution_count": null,
   "metadata": {},
   "outputs": [],
   "source": []
  }
 ],
 "metadata": {
  "kernelspec": {
   "display_name": "venv",
   "language": "python",
   "name": "python3"
  },
  "language_info": {
   "codemirror_mode": {
    "name": "ipython",
    "version": 3
   },
   "file_extension": ".py",
   "mimetype": "text/x-python",
   "name": "python",
   "nbconvert_exporter": "python",
   "pygments_lexer": "ipython3",
   "version": "3.9.6"
  }
 },
 "nbformat": 4,
 "nbformat_minor": 2
}
