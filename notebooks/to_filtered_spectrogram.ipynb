{
 "cells": [
  {
   "cell_type": "markdown",
   "metadata": {},
   "source": [
    "# Convert To Filtered Spectrogram"
   ]
  },
  {
   "cell_type": "code",
   "execution_count": 2,
   "metadata": {},
   "outputs": [],
   "source": [
    "import numpy as np\n",
    "import matplotlib.pyplot as plt\n",
    "from scipy.io import wavfile\n",
    "import os\n",
    "from scipy.signal import butter, lfilter"
   ]
  },
  {
   "cell_type": "markdown",
   "metadata": {},
   "source": [
    "Parameters"
   ]
  },
  {
   "cell_type": "code",
   "execution_count": 5,
   "metadata": {},
   "outputs": [],
   "source": [
    "data_directory = '../data/pilot01_data/'\n",
    "target_directory = '1'\n",
    "results_directory = 'results'\n",
    "\n",
    "folder_path = os.path.join(data_directory, target_directory)\n",
    "results_path = os.path.join(data_directory, results_directory, target_directory)\n",
    "os.makedirs(results_path, exist_ok=True)\n",
    "filter_start = 900\n",
    "filter_stop = 9500\n"
   ]
  },
  {
   "cell_type": "code",
   "execution_count": null,
   "metadata": {},
   "outputs": [],
   "source": [
    "def iterate_through_wav(folder_path, results_folder_path, filter_start, filter_stop, recursive=True, plot=False):\n",
    "    \"\"\"\n",
    "    Iterate through wav files within target folder, get filtered spectrogram and save data\n",
    "    \"\"\"\n",
    "\n",
    "    for root, dirs, files in os.walk(folder_path):\n",
    "        for file in files:\n",
    "            file_path = os.path.join(root, file)\n",
    "            print(file_path)\n",
    "            filtered_spectrogram, _, _ = get_filtered_spectrogram(file_path, filter_start, filter_stop, plot)\n",
    "\n",
    "            target_file = f\"{os.path.splitext(file)[0]}.npy\"\n",
    "            results_file_path = os.path.join(results_folder_path, target_file)\n",
    "            save_data(results_file_path, filtered_spectrogram)\n",
    "\n",
    "        if not recursive:\n",
    "            # Exit the loop after the top-level folder if not recursive\n",
    "            break\n",
    "    \n",
    "def save_data(file_path, data):\n",
    "    \"\"\" \n",
    "    Saves numpy array as csv\n",
    "    \"\"\"\n",
    "    np.savetxt(file_path, data)\n",
    "\n",
    "def get_filtered_spectrogram(file_path, filter_start, filter_stop, plot=False):\n",
    "    \"\"\"\n",
    "    Obtains data from file_path, converts to spectrogram and then filters for desired range\n",
    "    \"\"\"\n",
    "\n",
    "    # Read the .wav file\n",
    "    sample_rate, data = wavfile.read(file_path)\n",
    "    # Handle stereo audio (take one channel)\n",
    "    if len(data.shape) == 2:\n",
    "        data = data[:, 0]\n",
    "\n",
    "    spectrogram, freqs, times, _ = plt.specgram(data, Fs=sample_rate, )\n",
    "\n",
    "    if plot:\n",
    "        plot_spectrogram(spectrogram, freqs, times)\n",
    "\n",
    "    filtered_spectrogram, freqs = filter_spectrogram(spectrogram, freqs, filter_start, filter_stop)\n",
    "\n",
    "    if plot:\n",
    "        plot_spectrogram(filtered_spectrogram, freqs, times)\n",
    "\n",
    "    return filtered_spectrogram, freqs, times\n",
    "\n",
    "def filter_spectrogram(spectrogram, freqs, filter_start, filter_stop):\n",
    "    freq_index = np.where((freqs >= filter_start) & (freqs <= filter_stop))[0]\n",
    "\n",
    "    filtered_spectrogram = spectrogram[freq_index, :]\n",
    "    filtered_freqs = freqs[freq_index]\n",
    "\n",
    "    return filtered_spectrogram, filtered_freqs\n",
    "\n",
    "\n",
    "def plot_spectrogram(spectrogram, freqs, times):\n",
    "    plt.imshow(10 * np.log10(spectrogram), aspect='auto', extent=[times.min(), times.max(), freqs.min(), freqs.max()], origin='lower')\n",
    "    plt.colorbar(label='Intensity [dB]')\n",
    "    plt.xlabel('Time [s]')\n",
    "    plt.ylabel('Frequency [Hz]')\n",
    "    plt.title(f'Spectrogram of {\"blah\"}')\n",
    "    plt.show()"
   ]
  },
  {
   "cell_type": "code",
   "execution_count": null,
   "metadata": {},
   "outputs": [],
   "source": [
    "\n",
    "iterate_through_wav(folder_path, results_path, filter_start, filter_stop, plot=False)"
   ]
  },
  {
   "cell_type": "code",
   "execution_count": null,
   "metadata": {},
   "outputs": [],
   "source": []
  }
 ],
 "metadata": {
  "kernelspec": {
   "display_name": "venv",
   "language": "python",
   "name": "python3"
  },
  "language_info": {
   "codemirror_mode": {
    "name": "ipython",
    "version": 3
   },
   "file_extension": ".py",
   "mimetype": "text/x-python",
   "name": "python",
   "nbconvert_exporter": "python",
   "pygments_lexer": "ipython3",
   "version": "3.9.6"
  }
 },
 "nbformat": 4,
 "nbformat_minor": 2
}
